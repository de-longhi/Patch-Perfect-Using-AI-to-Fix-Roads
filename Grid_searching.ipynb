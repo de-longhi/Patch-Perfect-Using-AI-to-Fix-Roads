{
  "nbformat": 4,
  "nbformat_minor": 0,
  "metadata": {
    "colab": {
      "provenance": [],
      "machine_shape": "hm",
      "gpuType": "A100"
    },
    "kernelspec": {
      "name": "python3",
      "display_name": "Python 3"
    },
    "language_info": {
      "name": "python"
    },
    "accelerator": "GPU"
  },
  "cells": [
    {
      "cell_type": "code",
      "execution_count": 2,
      "metadata": {
        "id": "NLdog5KFocOR"
      },
      "outputs": [],
      "source": [
        "\n",
        "import pandas as pd\n",
        "import numpy as np\n",
        "from sklearn import datasets\n",
        "from sklearn.model_selection import train_test_split, GridSearchCV\n",
        "from sklearn.preprocessing import StandardScaler\n",
        "from sklearn.svm import SVR\n",
        "from sklearn.metrics import classification_report, confusion_matrix\n",
        "\n",
        "df = pd.read_csv(\"/content/dataframe.csv\")\n",
        "# Load your data (Here, I'm using the Iris dataset as an ex"
      ]
    },
    {
      "cell_type": "code",
      "source": [
        "X = df[[\"distance\", \"area per pixel\"]]\n",
        "y = df[\"Bags used \"]\n",
        "X_test = pd.read_csv(\"/content/test_dataframe.csv\")"
      ],
      "metadata": {
        "id": "1zZvLvj6pduq"
      },
      "execution_count": 7,
      "outputs": []
    },
    {
      "cell_type": "code",
      "source": [
        "# Feature scaling (important for SVMs)\n",
        "scaler = StandardScaler()\n",
        "X_scaled = scaler.fit_transform(X)\n",
        "X_test_scaled = scaler.transform(X_test[[\"distance\", \"area per pixel\"]])\n",
        "\n",
        "# Define the parameter grid\n",
        "param_grid = {\n",
        "    'C': [0.1, 1, 10, 100],            # Regularization parameter\n",
        "    'gamma': [1, 0.1, 0.01, 0.001],    # Kernel coefficient for 'rbf', 'poly' and 'sigmoid'\n",
        "    'kernel': ['linear', 'rbf', 'poly', 'sigmoid'] # Kernel type\n",
        "}\n",
        "\n",
        "# Create a GridSearchCV object\n",
        "grid = GridSearchCV(SVR(), param_grid, refit=True, cv=10, verbose=2, n_jobs = -1)\n",
        "\n",
        "# Fit the model using grid search\n",
        "grid.fit(X_scaled, y)\n",
        "\n",
        "# Display the best parameters found by grid search\n",
        "print(\"Best Parameters found: \", grid.best_params_)\n",
        "\n"
      ],
      "metadata": {
        "colab": {
          "base_uri": "https://localhost:8080/"
        },
        "id": "q-N3wflnpJZq",
        "outputId": "52129b67-a240-4ca3-bfe0-3d4e20474b0a"
      },
      "execution_count": 12,
      "outputs": [
        {
          "output_type": "stream",
          "name": "stdout",
          "text": [
            "Fitting 10 folds for each of 64 candidates, totalling 640 fits\n",
            "Best Parameters found:  {'C': 100, 'gamma': 0.01, 'kernel': 'rbf'}\n"
          ]
        }
      ]
    },
    {
      "cell_type": "code",
      "source": [
        "model = grid.best_estimator_\n",
        "predictions = model.predict(X_test_scaled)\n",
        "X_test[\"predictions\"] = predictions"
      ],
      "metadata": {
        "id": "-6Sll_u9qwo4"
      },
      "execution_count": 19,
      "outputs": []
    },
    {
      "cell_type": "code",
      "source": [
        "X_test[[\"Pothole\", \"predictions\"]].to_csv(\"submission3.csv\", index = False)"
      ],
      "metadata": {
        "id": "rZKSsPZarEEY"
      },
      "execution_count": 17,
      "outputs": []
    },
    {
      "cell_type": "code",
      "source": [
        "X_test"
      ],
      "metadata": {
        "id": "wB3fGnUorhI_"
      },
      "execution_count": null,
      "outputs": []
    },
    {
      "cell_type": "code",
      "source": [
        "from sklearn.ensemble import GradientBoostingRegressor\n",
        "from sklearn.model_selection import GridSearchCV\n",
        "from sklearn.metrics import mean_squared_error, r2_score\n",
        "\n",
        "# Define the parameter grid\n",
        "param_grid = {\n",
        "    'n_estimators': [100, 200, 300],         # Number of boosting stages\n",
        "    'learning_rate': [0.01, 0.1, 0.2],       # Step size shrinkage used in updates\n",
        "    'max_depth': [3, 4, 5],                  # Maximum depth of the individual estimators\n",
        "    'min_samples_split': [2, 5, 10],         # Minimum number of samples required to split an internal node\n",
        "    'min_samples_leaf': [1, 2, 4],           # Minimum number of samples required to be at a leaf node\n",
        "    'subsample': [0.8, 0.9, 1.0]             # Fraction of samples used for fitting the individual base learners\n",
        "}\n",
        "\n",
        "# Create a GridSearchCV object\n",
        "grid = GridSearchCV(GradientBoostingRegressor(), param_grid, refit=True, cv=5, verbose=2, n_jobs=-1)\n",
        "\n",
        "# Fit the model using grid search\n",
        "grid.fit(X_scaled, y)\n",
        "\n",
        "# Display the best parameters found by grid search\n",
        "print(\"Best Parameters found: \", grid.best_params_)\n"
      ],
      "metadata": {
        "colab": {
          "base_uri": "https://localhost:8080/"
        },
        "id": "v_l-BuqpvcrL",
        "outputId": "20426868-f436-438f-ddf3-95ee9c20e551"
      },
      "execution_count": 18,
      "outputs": [
        {
          "output_type": "stream",
          "name": "stdout",
          "text": [
            "Fitting 5 folds for each of 729 candidates, totalling 3645 fits\n",
            "Best Parameters found:  {'learning_rate': 0.01, 'max_depth': 3, 'min_samples_leaf': 1, 'min_samples_split': 5, 'n_estimators': 100, 'subsample': 0.8}\n"
          ]
        }
      ]
    },
    {
      "cell_type": "code",
      "source": [
        "model = grid.best_estimator_\n",
        "predictions = model.predict(X_test_scaled)\n",
        "X_test[\"predictions\"] = predictions"
      ],
      "metadata": {
        "id": "JefwPX8axyBY"
      },
      "execution_count": 20,
      "outputs": []
    },
    {
      "cell_type": "code",
      "source": [
        "from sklearn.ensemble import RandomForestRegressor\n",
        "from sklearn.model_selection import GridSearchCV\n",
        "from sklearn.metrics import mean_squared_error, r2_score\n",
        "\n",
        "# Define the parameter grid\n",
        "param_grid = {\n",
        "    'n_estimators': [100, 200, 300],       # Number of trees in the forest\n",
        "    'max_depth': [None, 10, 20, 30],       # Maximum depth of the trees\n",
        "    'min_samples_split': [2, 5, 10],       # Minimum number of samples required to split an internal node\n",
        "    'min_samples_leaf': [1, 2, 4],         # Minimum number of samples required to be at a leaf node\n",
        "    'bootstrap': [True, False]             # Whether bootstrap samples are used when building trees\n",
        "}\n",
        "\n",
        "# Create a GridSearchCV object\n",
        "grid = GridSearchCV(RandomForestRegressor(), param_grid, refit=True, cv=10, verbose=2, n_jobs=-1)\n",
        "\n",
        "# Fit the model using grid search\n",
        "grid.fit(X_scaled, y)\n",
        "\n",
        "# Display the best parameters found by grid search\n",
        "print(\"Best Parameters found: \", grid.best_params_)\n"
      ],
      "metadata": {
        "colab": {
          "base_uri": "https://localhost:8080/"
        },
        "id": "Q5QLD2hwzWoh",
        "outputId": "bfe8d368-4655-44a8-cf7f-22c7a932669a"
      },
      "execution_count": 23,
      "outputs": [
        {
          "output_type": "stream",
          "name": "stdout",
          "text": [
            "Fitting 10 folds for each of 216 candidates, totalling 2160 fits\n",
            "Best Parameters found:  {'bootstrap': True, 'max_depth': 10, 'min_samples_leaf': 1, 'min_samples_split': 10, 'n_estimators': 200}\n"
          ]
        }
      ]
    },
    {
      "cell_type": "code",
      "source": [
        "model = grid.best_estimator_\n",
        "predictions = model.predict(X_test_scaled)\n",
        "X_test[\"predictions\"] = predictions"
      ],
      "metadata": {
        "id": "ECSiMbmEzkmG"
      },
      "execution_count": 24,
      "outputs": []
    },
    {
      "cell_type": "code",
      "source": [
        "X_test[[\"Pothole\", \"predictions\"]].to_csv(\"submission5.csv\", index = False)"
      ],
      "metadata": {
        "id": "p4HxA3hDzsYh"
      },
      "execution_count": 25,
      "outputs": []
    },
    {
      "cell_type": "code",
      "source": [
        "from catboost import CatBoostRegressor\n",
        "from sklearn.model_selection import GridSearchCV\n",
        "from sklearn.metrics import mean_squared_error, r2_score\n",
        "\n",
        "# Define the parameter grid\n",
        "param_grid = {\n",
        "    'iterations': [100, 200, 300],             # Number of boosting iterations\n",
        "    'learning_rate': [0.01, 0.1, 0.2],         # Learning rate\n",
        "    'depth': [3, 4, 5],                        # Depth of the trees\n",
        "    'l2_leaf_reg': [1, 3, 5],                  # L2 regularization term on weights\n",
        "    'border_count': [32, 64, 128],             # Number of splits for numerical features\n",
        "}\n",
        "\n",
        "# Initialize CatBoostRegressor\n",
        "catboost_model = CatBoostRegressor(eval_metric='RMSE', verbose=0)\n",
        "\n",
        "# Create a GridSearchCV object\n",
        "grid = GridSearchCV(estimator=catboost_model, param_grid=param_grid, cv=10, n_jobs=-1, verbose=2)\n",
        "\n",
        "# Fit the model using grid search\n",
        "grid.fit(X_scaled, y)\n",
        "\n",
        "# Display the best parameters found by grid search\n",
        "print(\"Best Parameters found: \", grid.best_params_)"
      ],
      "metadata": {
        "colab": {
          "base_uri": "https://localhost:8080/"
        },
        "id": "-GHfDVP61ZuO",
        "outputId": "00cf5930-3f7a-43ff-d1b2-eb22c55edba8"
      },
      "execution_count": 26,
      "outputs": [
        {
          "output_type": "stream",
          "name": "stdout",
          "text": [
            "Fitting 10 folds for each of 243 candidates, totalling 2430 fits\n",
            "Best Parameters found:  {'border_count': 128, 'depth': 3, 'iterations': 100, 'l2_leaf_reg': 3, 'learning_rate': 0.2}\n"
          ]
        }
      ]
    },
    {
      "cell_type": "code",
      "source": [
        "model = grid.best_estimator_\n",
        "predictions = model.predict(X_test_scaled)\n",
        "X_test[\"predictions\"] = predictions"
      ],
      "metadata": {
        "id": "9eKugQKQ1qJk"
      },
      "execution_count": 27,
      "outputs": []
    },
    {
      "cell_type": "code",
      "source": [
        "X_test[[\"Pothole\", \"predictions\"]].to_csv(\"submission6.csv\", index = False)"
      ],
      "metadata": {
        "id": "E81CVIxo1uza"
      },
      "execution_count": null,
      "outputs": []
    }
  ]
}